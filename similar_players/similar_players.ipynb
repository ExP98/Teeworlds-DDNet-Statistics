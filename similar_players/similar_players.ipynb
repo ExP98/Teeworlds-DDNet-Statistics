{
 "cells": [
  {
   "cell_type": "code",
   "execution_count": 39,
   "metadata": {
    "collapsed": true
   },
   "outputs": [],
   "source": [
    "import re\n",
    "import csv\n",
    "from copy import deepcopy"
   ]
  },
  {
   "cell_type": "code",
   "execution_count": 40,
   "outputs": [
    {
     "name": "stdout",
     "output_type": "stream",
     "text": [
      "6937\n"
     ]
    }
   ],
   "source": [
    "players_set = set()\n",
    "with open('nicks_points_1000pt.tsv', 'r', encoding='latin-1') as f:\n",
    "    next(f)\n",
    "    reader = csv.reader(f, delimiter='\\t')\n",
    "    for row in reader:\n",
    "        _, nick, _ = row\n",
    "        players_set.add(nick)\n",
    "print(len(players_set))"
   ],
   "metadata": {
    "collapsed": false,
    "pycharm": {
     "name": "#%%\n"
    }
   }
  },
  {
   "cell_type": "code",
   "execution_count": 41,
   "outputs": [
    {
     "name": "stdout",
     "output_type": "stream",
     "text": [
      "2036\n",
      "{'Moderate': set(), 'Novice': set(), 'DDmaX': set(), 'Brutal': set(), 'Oldschool': set(), 'Insane': set(), 'Solo': set(), 'Dummy': set(), 'Race': set(), 'Fun': set()}\n"
     ]
    }
   ],
   "source": [
    "types = dict()\n",
    "map_dict = dict()\n",
    "with open('../ddnet-stats/maps.csv', 'r', encoding='latin-1') as fp:\n",
    "    reader = csv.reader(fp, delimiter=',')\n",
    "    next(reader)\n",
    "    for row in reader:\n",
    "        map_dict[row[0]] = [row[1], int(row[2])]\n",
    "        if row[1] not in types:\n",
    "            types[row[1]] = set()\n",
    "print(len(map_dict))\n",
    "print(types)"
   ],
   "metadata": {
    "collapsed": false,
    "pycharm": {
     "name": "#%%\n"
    }
   }
  },
  {
   "cell_type": "code",
   "execution_count": 42,
   "outputs": [
    {
     "name": "stdout",
     "output_type": "stream",
     "text": [
      "6933\n"
     ]
    }
   ],
   "source": [
    "players = dict()\n",
    "\n",
    "with open('../ddnet-stats/race.csv', 'r', encoding='latin-1') as f:\n",
    "    next(f)\n",
    "    for line in f:\n",
    "        other_info = (re.findall(',\".*\",', line))[0].split(',')\n",
    "        nick = ','.join(other_info[1:-3])[1:-1]\n",
    "        if nick in players_set:\n",
    "            map_name = re.split(',\".*\",', line)[0][1:-1]\n",
    "            if nick not in players.keys():\n",
    "                players.setdefault(nick, deepcopy(types))\n",
    "            players[nick][map_dict[map_name][0]].add(map_name)\n",
    "\n",
    "print(len(players)) # lost some ppl but it does not matter"
   ],
   "metadata": {
    "collapsed": false,
    "pycharm": {
     "name": "#%%\n"
    }
   }
  },
  {
   "cell_type": "code",
   "execution_count": 44,
   "outputs": [
    {
     "name": "stdout",
     "output_type": "stream",
     "text": [
      "{'Moderate': {'High Five', 'mainstream', 'Dizzy', 'Eternal', 'Snow Problem', 'Depressed', 'Vizur 2', 'Pyramids', 'nameless map', 'Time Shop', '[SI] KABOO', 'The Problem', 'MonkeyDream', 'Try Again', 'Zaiross-Gores', 'Afternoon', 'Emerald', 'Moon Roar', 'Short Flight', 'Simple World 3', 'Silk Touch', 'Maranko', 'Olymp', 'Bootcamp #1', 'Weapons', 'Everlast', 'Magnitude', 'DarkRoad', 'Nujabes', 'Not Adrenaline 4', 'Holiday Adventure', 'Peaceful Jungle 2', 'Sandland', 'Push him', 'SimplePlay 3', 'Hookthrough', 'Sacred Source', 'NiggoDrag', '[SI] SELEN', 'Tropica', 'Hubbel', 'NightSky3', 'Tricktee', 'Easy Edge', 'Little Adventure', 'FWYS Key 1', '[SI] YELLOW', 'Sonne, Mond und Sterne', 'Temple of Doom', 'Dawn To Dusk', 'sense', 'Past', 'Clarity', 'minion', 'PurpleHeaven', 'Rayquaza', 'Freeze Jungle', 'The Bunker', 'Toadsquad', '[SI] INSTINCT', 'Crimson Woods', 'Tube', 'Cry', 'LazeAround2', 'Coffee I', 'Forgotten Lands', 'The Shire', 'FindTheFreeze', 'Jvice', 'Etna_1', 'Xabier', 'Herbstzeitlose', 'Push Them', 'Monster', 'Castle Lemongrab', '2 easy for u', 'Galaxy Story', 'Rivendell', 'Rapture', 'DayDrive', 'Redemption', 'Wrong Forest', 'Squidgy', 'Peaceful Jungle', 'idk', 'Yun Gu', 'Limitation', 'WEEDS', 'Excast 2', 'Death Sentence 2', 'MonkeyDream 2', 'SkiLLz', 'Eternal 2', \"Let's Fail!\", 'tihid', 'Tunak Tunak Tun', 'Elitissimo', 'Green Race', 'MysteryCompound', 'Yeyou 1', 'UpNDown Coop', 'Wonderland', 'Castle Mario', 'Qianye', 'BackToBasics2', 'Topsy Turvy', 'Dead', 'Sunrice', 'MonkeyDream 3', 'Justix', 'moyu', 'Excast 4', 'Lygerastia', '[SI] VIADANTE', 'Mirage', 'Cross', 'Slow Santa', 'Yeyou 3', 'Golden', 'Crystal Maze', 'Red Avenue', 'Mount', 'The Beginning', 'Spooky', 'SimplePlay', '[SI] LAVITA', 'Neon 1', 'Kopell', 'HellGate 3.5', 'Baby Aim 3.0', 'Cavings I', 'PreciousDream', 'Plan C', 'Rainbow Sunrise', 'Construction I', 'Brony', 'Chevtzo', 'Daunell', 'Climax', 'Stargazing', 'Zoroark', 'SunDay', 'faye', 'Simple World 2', 'Pizza', 'MiddleFinger', 'Pharice', 'Galaxy Turn', 'Hell 2', 'BackToBasics', 'Easy Hook', 'Doable', 'luminati', 'Coffee II', '0 to 100', 'Sabell', 'SimplePlay 4', 'SpongeBob 3', 'Against the Current', 'Dubush', '3Play', 'Simple World', 'Sundara', 'Pisull', 'Aequilibrium', 'Kalimba', 'Ray - 2', 'Baby Aim 2.0', 'Request', 'FastRun', 'Exit', 'Sounds', 'DesoxyribonukleinsÃ¤ure', 'P2Z_Soar', 'Bootcamp #2', 'Hookthrough 2', 'New Era', 'Primeval Forest', 'Limitless', 'P2Z_DeadlyJungle', 'Boo!', 'Resoren', 'Baby Aim 1.0', 'Run Free', 'Glitchhold', 'Kero-Gores8', 'Noo!', 'Caution', '[SI] NEVERLAND', 'Brown', 'Intense 2.0', 'HURT', 'Tiji', 'Swoosh', 'Conscientious', 'Yeyou 2', 'Next Grey', 'Hollow', 'Excast', 'Motherlode', 'Noovice!', 'Awayst', 'Casa der Merde', 'Humpalumpa 2', 'HookThrough3', 'Mario_reloaded', 'Purple Panic 4', 'garden', 'One Way', 'Fender', 'CYO', 'Plue', 'Minimum', 'Excast 5', 'Purple Panic 3', 'Snowy Mountain', 'Fall & Rise', 'Intothenight', 'Hyper', 'Heaven', 'Piranha', 'KeeZ', 'NightSky2', 'SunDay 3', '[SI] DANICA', 'Cup of Tee', 'NightSky4', 'The Trip', 'Gibson', 'Outbreak', 'moondrag', 'TowerOfDesperation', 'HeartOfMoon', 'DeathHook', 'Bob', 'Intense 1.0', 'Plan A', 'Felian', 'Short', 'Planet Jupiter', 'Dusty Road', 'Short2', 'Sunny Land', 'a_simple_run', 'GuggPaloczi', 'JP', 'Bubbles', 'Slime', 'Imposand', 'Sunreal', 'LazeAround', 'Pranki', 'Empty', '4 NoooBs', 'NightSky', 'Castle', 'Dummy 2', 'P2Z_Island', 'Fluff 2', 'SimplePlay 2', 'piViq', 'Just HookThrough', 'Earthborn', 'The East Desert', 'SomewhereDistant', 'Twix', 'Jumanji', 'rizek', 'Top 2', 'alternative', 'Entei', 'Plan B', 'P2Z_Crungle', 'Pharice 2', '[SI] AVADA', 'Hyper 2', 'Hollow 2', 'No Merci', 'lumine', 'Seduction', 'Captain America'}, 'Novice': {'Koule 2', 'GlassBox 8', 'Koule 7', 'Tiny Tandem', '[School] Hammer', 'Psyll', 'Empire Desp', 'Icebreaker', 'Firewatch', 'Sorrow', 'Top 3', 'Senani', 'Beyond Dreams', 'Blue Sapphire', 'Future_Race', 'Deino', 'Lonely', 'Introduction', 'Killa 3', 'Skillz 3', 'MagiK', 'Iris', 'Teleport', 'Inure', 'Lighthouse', 'Fluff', 'Maui Wowie', 'Kindergarten', 'CandyLand', 'GlassBox', 'Jungle Camp', 'Sincera 2', 'TeeWorld', 'Easy 1', 'Goo!', 'Cartoon', 'GlassBox 7', 'WTF', 'Pounamu 2', 'Cuboid', 'Batman', 'For Idiots 2', 'Tangerine', 'Skillz 6', 'For Idiots 1', 'Pados 1', 'Water Lily', 'Pounamu', 'Halloween Night', 'Decipher', 'Skillz 1', 'Island Rush', 'Diamond Mine', 'Absurd 2', 'Sunlight', 'Absurd 1', 'Ice Water', 'Orion', 'Koule 3', 'Hulk', 'Dry Lagoon', 'Light Grey', 'Banta', 'GlassBox 4', 'Tsunami', 'Koule 5', '[School] Hook', 'Hoo!', 'Planet Mars', 'Maui Wowie 2', 'GlassBox 6', 'Homesick', 'Absurd 3', 'Lowcore', 'Shadow', 'Koule 4', 'Pados 2', 'Just2Easy', 'Top 1', 'Geneque', 'GlassBox 5', 'xyz_ddrace2', 'Looney', 'Glade', 'Absurd 4', 'Kaylite', 'Thor', 'benrace', 'Gold Mine', 'ZeroX', 'Moonlight', 'Seasons', '4Beginners', 'Sketch', 'Kobra 3', 'SeMang 1', 'Skillz 2', 'Ovell', 'Kobra', 'GreenAde', 'IronMan', 'Lavender Forest', 'Sunny Side Up', 'Pados 3', 'DetrimentalFactor', 'Chicken Pie 2', 'Harvest', 'Careless', 'Xolla', 'LearnToPlay', 'Eventide', 'GlassBox 2', 'Bullets', 'Petrified', \"It's Easy\", 'Dark Moon', 'Planet Mercury', 'Sopella', 'GeRollA', 'Undrag2', 'Skillz 5', 'Little Forest', 'Cool', 'Koule 1', 'Kobra 2', 'GlassBox 3', 'Basics', 'Seagulls', 'Kobra 4', 'Multeasymap', 'StepByStep', 'Vizur', 'Take it noobly', 'Planet Venus', 'BlueChaos', 'Epix', 'Houll', 'Sincera', 'Camouflage', 'Chicken Pie', '(wasntme)', 'Skillz 4', 'Threll', 'Absurd 5', 'Linear', '4Nubs', 'SpÃ¼li', 'newbee'}, 'DDmaX': {'Standby', 'Arcade 2', 'Jajka', 'HellGate 1', 'Tribute 1', 'Tylost 2', 'Equalize!', 'Experiment', 'Impulse_02', 'Lime', 'Steff I beginning', 'MicCore', 'Spectrus I', 'skynet3', 'Google', 'BoX', 'R.I.P', 'Deadline 2', 'Frats 2', 'NUT_hardcore_race6', 'Four Gates', 'Hook Fever', 'Divinum V2', 'Gold Rush', 'skynet5', 'Fly to the Moon', 'skynet10', 'NUT_short_race2', 'skynet2', 'Back to the Roots 1', 'NUT_hardcore_race4', 'Chaos Factory 2', 'Forever', 'whatever', 'Diamond', 'Love 0.6', 'GreenDream', 'NUT_race8', \".Background'\", 'Evo 1', 'Difficult 2.1', 'Frostbite', 'Michler', 'NUT_hardcore_race5', 'Creative', 'Frats 4', 'FWYS 2', 'Stamina', 'Get The Gifts', 'Night Jungle', 'Grey 4', 'Frats 1', 'Snowy Sakura I', 'lemonland', 'Tribute 2', 'Drag-House', 'Dels', '0 KBeeeR S - 1', 'NightRunner', 'skynet4', 'HellGate 2.5', 'Purple Panic', 'skynet1', 'Frats 5', 'Poke', 'The Tower', 'Bumba', 'Equestria Girls', 'NUT_race6', 'black-mountains', 'skynet8', 'Fall In Love', 'Derpy 1', 'HellGate 1.5', 'skynet compilation', 'Colors V2', 'Hop', 'Axom', 'Xeno Race #1', 'Brick World', 'Retro 0', 'Grey 1', 'secreT', 'NUT_race3', 'HellGate 5', 'RockBlock 1', 'Deadline 1', 'Pale', 'EasyCore', 'Lost Castle', 'o_O', 'Want_a_Cookie', '007 - 2', 'Icy Morning', 'Bixnet', 'Underworld', 'Maximum', 'Ice', 'Totoro', 'Toxic', 'Genesis-2', 'GTF 1', 'CreeperFace', 'WinterMine', 'Pathway', 'Hell Fly', 'Caveman', 'BlueRift', 'Blue Sky', 'S-Race 2', 'Paranoia', 'Icy Mountain', 'Woader', 'Strike', 'Maroon', 'Volcano', 'Chaos 3', 'DaMap', 'Retro 1', 'R2D2', 'Curse', 'HeyYa', 'Brick World 2', 'JustMap', '-Ikarus-', 'KitKat 2', 'Halloween', '3way', 'Brownie', 'Bercy', 'NUT_hardcore_bestof', 'Hard Way 1.0', 'HellGate 4', 'Creepeez', 'Rovo', 'skynet7', 'Rainboom', 'Revolution', 'Paik', 'Tylost', 'Impulse_03', 'RageOne', 'ATLAS', 'Chaos 2', 'Arcade', 'Blue Hell', 'Reality', 'illusion', 'DARKness 1', 'Black', 'Drain-Age', 'skynet6', 'lovely me', 'Sunsetcave', 'Nasa', 'GlassBox 9', 'run_the_cube', 'Black Jungle', 'Dream 2', 'Michler 2', 'double up', 'Regret', 'NUT_race1', 'Fairy Land', 'Core', 'CCrush', 'Away', 'Repeat', 'Skyfly', '4luvz', 'Pale 2', 'Deeve1', 'pepsi', 'Back to the Roots 2', 'HappyEaster', 'Zephronikon', 'Moon of the Jungle', 'LATOM', '84', 'Castle of Glass', 'NUT_hardcore_race2', 'Violet', 'Autumn', 'Yin&Yang', 'Fly-4-2', 'FWYS 5', 'NUT_short_race5', 'NUT_hardcore_race3', 'Chaos Factory', 'Hope', 'skynet9', 'Lost Story', 'Dream 1 V2', 'NUT_short_race4', 'TsinmaS', 'SilentNight', 'NUT_race7', 'smile', 'Grey 3', 'SpongeBob 1', 'Feeling', 'Hope 2', 'black-mountains 2', 'Grey 2', 'Jungle', 'DaFuQ', 'TheVoiD', 'NUT_short_race7', 'Snowzz', 'Desolation', '21', 'Blue Adventures 1', 'Explosive', 'Steff III peace', 'Dead Island', 'KitKat 1', 'Finito', 'Difficult 1.1', 'VeryLow1', 'Pandora', 'HellGate 3', 'Scabrous 2', 'NUT_short_race3', 'StormzZ', 'Purple Panic 2', 'Green', 'vitaminC', 'brainbase', 'Pathway 4', 'DaMap 2', 'Deria', 'Myth', 'slow', 'mario(=D)', 'Desert Pain', 'DoT', 'Dark Rainbow', 'Reach Pluto', 'Genesis', 'blue-mountains', '0 KBeeeR S - 2', 'Forest', 'FWYS 3', 'DeadEnd', 'NUT_race2', 'Drunk', 'Peaks', 'Skyisland2', 'NUT_short_race1', 'Ambrosia', 'Angry', 'NUT_race4', 'Fantabob', 'JetPack', 'Multivitamin', 'Besbex', 'Cigarette', 'X-Cross', 'S-Race 1', 'Cloudy', 'FreeZe', 'NUT_race9', 'Drag-House2', 'NUT_hardcore_race1', 'Frats 3', 'Pandaland', 'BSWL', 'HellGate 2', 'Zip', 'DARKness 2', 'Confusion', 'Impulse_01', 'Full Moon', 'GlassBox 10', 'Dels 2', 'NUT_short_race6', 'Angry 2', 'Slim', 'Day', 'Red & Orange', 'Easy Way', 'Winter Dream', 'Shaxx', 'JLI 1', 'NUT_race5', 'FWYS 1', 'Blue & Yellow', 'VeryLow2', 'Sky line', '007 - 1', 'At Night', 'Everest', 'The Captive Mind', 'BrokenBlack-1', 'Pathway 2', 'FWYS 4', 'Heroic', '42', 'MCPV', 'Pathway 3', 'lovely me2', 'Notice 1', 'valentees', 'Hell 1 V2', 'Madness 5', 'Divided', 'HappyValenTees'}, 'Brutal': {'Flux 2', 'Yoko 1.1', \"Don't Panic\", 'Biome Master', 'Gloominescence', 'Memories', 'mmips', 'Highlife', 'Determination', 'Fluke', 'Deep Forest', 'Flux', 'Grandma', 'claret-blue', 'Kabarda', 'Tough', 'leopold', 'ttgtgttg', 'blur', 'Supernova', 'Comeback', 'Cemetery', 'Barren', 'Alive', 'ClassicMonkez', 'Scabrous', 'Generica', 'allthewayup', 'Stronghold 2', \"Good Ol' Days\", 'Cold Jungle', 'Stoned.', 'Dynamic', 'nullptr', 'Out of Castle', \"Good Ol' Days 2\", 'Radiation', 'Furypleasure', 'Helena', 'Lotus', 'Fly Around', 'Stronghold 3', 'Aviate', 'Grandpa', 'Holy Key', 'chiseled', 'Flying in the Sky', 'Hardcore 11', 'Journey Man 2', 'Naufrage 3', 'lost_castle', 'To the moon', 'Genericore 4', 'Fonders', 'Arabic Night', 'Yoko 3.1', 'Big Sun', 'Venture', 'cimininxi', 'Skave', 'Spacetic', 'Goldmoon', 'Back in the days 2', 'aled', \"Don't go\", 'Doreos', 'From Death to Destiny', 'Stoned. 2', 'Sand Dune', 'Zoe', 'Koule 17', 'Genericore 5', 'First Try', 'Yoko 2.1', 'Analyzer', 'P2Z_Eclipse', 'Tvyn', 'Underground', 'Nostalgia', 'A World Beyond', 'Hardcore 10', 'Rogue World', 'Hardcore 12', 'Naufrage', 'Bumblebee', 'Perfect World', 'Back in the days', 'Epic-Fail', 'The Uns', 'Narcissistic', 'EscapeTheCave', 'Aim 1.0', 'In Da House', 'Goldshire', 'Unbalanced', 'Death Valley', 'milk', 'Between the Mountains', 'Space & Time', 'Naufrage 2', 'Black&White', 'complic', 'Hillside', 'Stronghold'}, 'Oldschool': {'Professional', 'Victory 4', 'Jailbreak 3', 'Ultimatum 1', 'Jailbreak 2', 'StoneHell-Gores', 'Just Fly 1', 'Sadway', 'AiP-Gores', 'Eruption', 'Reload 3', 'Red Japan', 'Josen', 'Just Hookfly 1', 'Reload 4', 'Zadrotos 2', 'Paradise', 'Im No Superman 1', 'Madness 3', 'Alaska', 'DarkCore 1', 'Bush', 'Haunted Dungeon', 'Interlude 2', 'Miper 5', 'experiment', 'himmel 2', 'Teestar', 'Eagle Race Compilation', 'Orange 2', 'Endgame', 'Freeze Slow 3', 'Unlimited', 'Freeze Slow 4', 'Zadrotos 1', 'bBzZ!!', 'UnrealMap', 'Impossible 2', 'Just Hookfly 2', 'Insanity', 'StrangeNight', 'Miper 3', 'HDP_Obstaculos', 'Ultimatum 2', 'HDP_Zinderencio', 'Pirateworld', 'Universe', 'Hardcore 5', 'Hardcore 9', 'Just Fly 3', 'Poreotics', 'Jailbreak 1', 'Im No Superman 3', 'Orange 1', 'Encore', 'Continuum', 'Multimap', 'Madness 2', 'Im No Superman 2', 'Ultimatum 3', 'Hardcore 2', 'Victory 1', 'Impossible 1', 'Jailbreak 5', 'Hardstyle 4', 'WoFs', 'Freeze Slow 1', 'Miper 4', 'Troj', 'FreeDoom2', 'Madness 4', 'DarkCore 3', 'Hardstyle 1', 'Madness 1', 'Hardcore 7', 'Reload 1', 'Ray - 1', 'Hardcore 4', 'HellFly', 'Freeze Slow 2', 'Just Fly 2', 'Warch Comp', 'Illusion', 'ResidentSS', 'Fresh', 'Atticus Compilation', 'himmel', 'Hell Ride', 'Impossible 3', 'Victory 5', 'Hardstyle 2', 'Fucktastic', 'Amor 2', 'Amor 1', 'Lykeion', 'Reload 2', '1TeeMap', \"Who's Faster\", 'EaSy_HarD 4', 'Dust', 'Synergy', 'Hardcore 1', 'Hardcore 3', 'Paradise & Hell'}, 'Insane': set(), 'Solo': {'Verification 2.2', 'Gedan', 'BlackVision', 'Allround', 'Jumper', 'SkipIt', 'Equity [Easy]', 'acq', 'Autumn Sunset', 'FlipLipp10', 'Fly Lessons', 'Verification 3.5', 'SL1', 'IMA NINJA', 'CrashTV', 'Piston', '1of4', 'Bullet Master', 'Night of Spikes', 'Tee Legends 2', 'Sparadrap', 'TOPOS', 'MorningStar', 'Verification 6.1', \"Dust's Leaf\", 'Golden_Evening', 'SonQuery', 'BlackBear2', 'WallJump', 'No_Stuck', 'Verification 3.2', 'Fireball', 'Desert Night', 'Hopeless II', 'Cheepl', 'SorGores 1', 'BlackBear3', 'HDP_OnOff', 'Tee Legends 3', 'Trackmania', 'BlackBear7', 'Slide', 'Schwung', 'Replay', 'ctf5_solo', 'CHILLUMINATI', 'Lonely Swim 4', '3of4', 'Impetuous', 'Push it', 'BlackBear1', 'Hardcore 2 Solo', 'selfdragger', 'Leftovers 1', 'Extension 2.0', 'UpNDown3', 'Cavity', 'Vesper', 'Aufnahmetest', \"Chill Let's Climb\", 'Zap', 'Verification 3.4', 'Casthere', 'DayLight', 'Theory Of Fail', 'PetJack', 'Nytro', 'mazepack', 'deadrun', 'Lucid Dream', 'Joyride 2', 'SkyCave', 'Indami', 'Mirror', 'Increase Your Speed', 'Killstreak 1', 'Verification 3.0', '2+2=green', 'Uniswim', 'PetJack 2', 'Rollercoaster', 'Shooting Range', 'UpNDown', 'BlackBear6', 'Joyride', 'Hollywood Undead', 'spy', 'Solo Power', 'back and forth', \"Hell's Castle\", 'Verification 3.6', 'GetSpeed', 'Art of Movement', 'SoManyStars', 'Tee Legends 1', 'Heaven-time', '8 points', 'navii', 'SpaceIsKey', 'Short Con', 'Care for your Time', 'Mini Zero II', 'SkipIt2', 'DatWay', 'Exchange', 'GHB_DDrace', 'Alpha', 'Lonely Swim 9.2', 'Nyan Cat', 'Moventer', 'Gorou', 'DeepEdge', 'Hopeless', 'Croissant', 'Noh', 'Rope swing', '2of4', 'Kobra Solo', 'Kobra 2 Solo', 'HDP_Run2', 'mood', 'OldschoolAdventure', 'deathpack', 'VoidOfSpace', 'Anaphore', 'Grid', 'Verification 9.0', 'run_guy_25', 'Hell-time', 'Verification 3.1', 'Rocket Player', 'Quick', 'Lawliet', 'Jungle Run', 'Short Sky', 'Lonely Swim 9.0', 'BlackBear4', 'Race_Sanktoras', 'Brown Suger', 'Prison 1', 'Outside', 'BlackBear5', 'Verification 3.3', 'The Dungeon', 'Freezejump', 'Verification 3.7', 'Lonely Swim 9.1', 'Late Evening', 'Verification 6', 'Universum 16', 'Verification 2.1', 'Verification 3.8', 'Old Style', 'Wormhole', 'ShotFF', 'MojoJump', 'Delension', 'Broken brain', 'solo_castle', 'Extension 1.0', 'Push it 3', 'Jajpack', 'Rocket Jump', 'Flappy Bird', 'Mini Zero', 'Kobra 4 Solo', 'Daghestan', 'Gedan2', 'Timebreaker', 'Whitemoon', '4of4', 'Summer Breeze', 'Putt Putt', \"Chill Let's Climb 3\", 'Verification 7.0', 'After the Cataclysm', 'ForeverAlone', 'Exalate', 'Volt', 'Desert Duration', 'Spallok', 'Push it 4', 'Lonely Swim 3', 'Mud', 'Kobra 3 Solo', 'RocketIsKey', 'Raid', 'The Space Station', 'Buckle Up', 'Iron Island', 'Escape', 'Verification 2'}, 'Dummy': {'Dummy Chamber 2', 'Broken hammer', 'DummyCopter', 'Tech', 'Greed', 'Bomb Raid', 'Chacruna', 'Downhill Jam', 'TakeUrLuggage', 'Pace', 'RON', 'Target', 'Dummy Chamber 3', 'Machine', 'Skychase', 'Smash', 'Caventure IV', 'Just Rocketfly 1', 'Samsara VI', 'Samsara III', 'Dummy Chamber', 'Try It', 'JustCopyFly', 'Darkvine', 'Watch your time', 'Caventure III', 'Escape from the Prison', 'Roaming Ruins', 'SpoopyDrag', 'Stellar', 'Caventure', 'For You', 'Just deep fly', 'NoTeleBro', 'Samsara II', 'Samsara V', 'Samsara', 'Destruction', 'Bomb Raid 2', 'Caventure II', 'SkyFly'}, 'Race': {'run_black_white', 'run_drawed', 'run_hot_or_not', 'run_cave_grass', 'run_granit_stone', 'run_crystal', 'run_FreezyFly', 'run_spring', 'run_greygrey', 'run_nightmare', 'run_unschaffbar', 'climate-crisis', 'run_button', 'run_pink.lila', 'run_frosty', 'frustrainleave', 'run_sunsetcave', 'run_asr', 'run_forrest', 'run_radioactive', 'run_4tea', 'run_heaven_and_hell', 'run_the_cure', 'run_ffs', 'run_dude', 'run_4abydos', 'run_toxic_green', 'run_pinky', 'run_ankii', 'run_away', 'run_dragon', 'run_the_rock', 'Steff fastrun 5', 'run_4fikmesan', 'run_pokemon', 'run_InTheHell', 'run_WARmoepopo', 'run_minimalist', 'hotrun', 'run_groove', 'run_long_for_popo', 'run_orange', 'run_g6', 'run_experience_of_incredibleness', 'run_irish_luck', 'run_redbull', 'run_glowing_ice', 'run_for_ghost', 'run_skizzpopo', 'Aufnahmetest_AE', 'run_for_onkelz', 'run_linkin_park', 'run_yellow_hell', 'pr0-move', 'run_firestorm', 'run_longWAR', 'run_pencil', 'run_black_jack', 'pocramruinrun', 'run_dfc', 'run_stoned', 'run_ice_castle', 'run_tee', 'run_blue', 'run_brown', 'run_neonlight', 'run_yellow', 'run_4popi', 'run_miniatur', 'run_4tzoy', 'zelda', 'run_4mystery', 'run_birthday'}, 'Fun': {'Time Calculator', 'TeeTacToe'}}\n"
     ]
    }
   ],
   "source": [
    "# print(players['PeX'])"
   ],
   "metadata": {
    "collapsed": false,
    "pycharm": {
     "name": "#%%\n"
    }
   }
  },
  {
   "cell_type": "code",
   "execution_count": 45,
   "outputs": [
    {
     "name": "stdout",
     "output_type": "stream",
     "text": [
      "{'Moderate': 3195, 'Novice': 484, 'DDmaX': 3100, 'Brutal': 2118, 'Oldschool': 1206, 'Insane': 0, 'Solo': 1548, 'Dummy': 590, 'Race': 258, 'Fun': 0}\n"
     ]
    }
   ],
   "source": [
    "for nickname in players.keys():\n",
    "    for server_type in players[nickname].keys():\n",
    "        points_at_type = 0\n",
    "        for m_name in players[nickname][server_type]:\n",
    "            points_at_type += map_dict[m_name][1]\n",
    "        players[nickname][server_type] = points_at_type\n",
    "print(players['PeX'])"
   ],
   "metadata": {
    "collapsed": false,
    "pycharm": {
     "name": "#%%\n"
    }
   }
  },
  {
   "cell_type": "code",
   "execution_count": 51,
   "outputs": [
    {
     "name": "stdout",
     "output_type": "stream",
     "text": [
      "[('PeX', 0), ('VÃ©Na', 7), ('DiegoBlaster21', 21), ('ad', 40), ('Â©Ã\\x9fÃ¸Ã¦Ã¸Â®', 49)]\n"
     ]
    }
   ],
   "source": [
    "pex_value = sum(players['PeX'].values())\n",
    "difference_list = []\n",
    "\n",
    "for nickname in players.keys():\n",
    "    difference_list.append((nickname, abs(sum(players[nickname].values()) - pex_value)))\n",
    "difference_list.sort(key=lambda x: x[1])\n",
    "print(difference_list[:5])"
   ],
   "metadata": {
    "collapsed": false,
    "pycharm": {
     "name": "#%%\n"
    }
   }
  },
  {
   "cell_type": "code",
   "execution_count": 60,
   "outputs": [],
   "source": [
    "def mask(types_dict, pex_types_dict):\n",
    "    loss = 0\n",
    "    sq_loss = 0\n",
    "    types_to_check = {'Moderate', 'Brutal', 'Solo', 'DDmaX', 'Oldschool'}\n",
    "    for tp in types_to_check:\n",
    "        loss += abs(types_dict[tp] - pex_types_dict[tp])\n",
    "        sq_loss += (types_dict[tp] - pex_types_dict[tp]) ** 2\n",
    "    return loss, sq_loss"
   ],
   "metadata": {
    "collapsed": false,
    "pycharm": {
     "name": "#%%\n"
    }
   }
  },
  {
   "cell_type": "code",
   "execution_count": 61,
   "outputs": [
    {
     "name": "stdout",
     "output_type": "stream",
     "text": [
      "0 PeX 12499\n",
      "1 ad 12459\n",
      "2 Fox 12779\n",
      "3 MeraÒi 12072\n",
      "4 dragon 13251\n",
      "5 Â«ÃniÂ®ÃµÂ§|*> 11637\n",
      "6 WhiteBULL 11479\n",
      "7 TeeWurst Neon 11915\n",
      "8 krÃ¼melmonster 11772\n",
      "9 Mr.E}|{UK 14268\n",
      "10 Pauline 13092\n",
      "11 maoni 11569\n",
      "12 Teeson 14033\n",
      "13 Shrekich 11410\n",
      "14 White-King 12240\n",
      "15 Zwelf 13150\n",
      "16 Rentom12 13544\n",
      "17 æ»¡æ 13213\n",
      "18 SPÎCTRUM 11757\n",
      "19 Deathman 13979\n",
      "20 Tezcan 13805\n",
      "21 Du4b 13232\n",
      "22 Ark :3 10496\n",
      "23 Smurfer 14588\n",
      "24 Armin v Buuren 12264\n"
     ]
    }
   ],
   "source": [
    "pex_v = players['PeX']\n",
    "difference_list = []\n",
    "\n",
    "for nickname in players.keys():\n",
    "    difference_list.append((nickname, mask(players[nickname], pex_v)))\n",
    "difference_list.sort(key=lambda x: x[1][0])\n",
    "\n",
    "for i in range(25):\n",
    "    print(i, difference_list[i][0], sum(players[difference_list[i][0]].values()))"
   ],
   "metadata": {
    "collapsed": false,
    "pycharm": {
     "name": "#%%\n"
    }
   }
  },
  {
   "cell_type": "code",
   "execution_count": 62,
   "outputs": [
    {
     "name": "stdout",
     "output_type": "stream",
     "text": [
      "0 PeX 12499\n",
      "1 ad 12459\n",
      "2 Fox 12779\n",
      "3 MeraÒi 12072\n",
      "4 TeeWurst Neon 11915\n",
      "5 Pauline 13092\n",
      "6 dragon 13251\n",
      "7 Teeson 14033\n",
      "8 Tezcan 13805\n",
      "9 Rentom12 13544\n",
      "10 krÃ¼melmonster 11772\n",
      "11 Deathman 13979\n",
      "12 Zwelf 13150\n",
      "13 Â«ÃniÂ®ÃµÂ§|*> 11637\n",
      "14 SPÎCTRUM 11757\n",
      "15 Armin v Buuren 12264\n",
      "16 Du4b 13232\n",
      "17 MSTAR 12426\n",
      "18 Fegus 11753\n",
      "19 æ»¡æ 13213\n",
      "20 Ark :3 10496\n",
      "21 WhiteBULL 11479\n",
      "22 ghg 13881\n",
      "23 d3fault 11388\n",
      "24 SiuFu 13846\n"
     ]
    }
   ],
   "source": [
    "difference_list.sort(key=lambda x: x[1][1])\n",
    "for i in range(25):\n",
    "    print(i, difference_list[i][0], sum(players[difference_list[i][0]].values()))\n"
   ],
   "metadata": {
    "collapsed": false,
    "pycharm": {
     "name": "#%%\n"
    }
   }
  }
 ],
 "metadata": {
  "kernelspec": {
   "display_name": "Python 3",
   "language": "python",
   "name": "python3"
  },
  "language_info": {
   "codemirror_mode": {
    "name": "ipython",
    "version": 2
   },
   "file_extension": ".py",
   "mimetype": "text/x-python",
   "name": "python",
   "nbconvert_exporter": "python",
   "pygments_lexer": "ipython2",
   "version": "2.7.6"
  }
 },
 "nbformat": 4,
 "nbformat_minor": 0
}