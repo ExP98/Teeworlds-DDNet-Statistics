{
 "cells": [
  {
   "cell_type": "code",
   "execution_count": 1,
   "metadata": {
    "collapsed": true
   },
   "outputs": [],
   "source": [
    "# refactoring summary_time_for_players.py file\n",
    "# fun server maps are not counted\n",
    "import re\n",
    "import csv"
   ]
  },
  {
   "cell_type": "code",
   "execution_count": 6,
   "outputs": [
    {
     "name": "stdout",
     "output_type": "stream",
     "text": [
      "2020\n"
     ]
    }
   ],
   "source": [
    "map_pts_dict = dict()\n",
    "fun_server_maps = set()\n",
    "with open('../ddnet-stats/maps.csv', 'r', encoding='latin-1') as fp:\n",
    "    reader = csv.reader(fp, delimiter=',')\n",
    "    next(reader)\n",
    "    for row in reader:\n",
    "        if row[1] != \"Fun\":\n",
    "            map_pts_dict[row[0]] = int(row[2])\n",
    "        else:\n",
    "            fun_server_maps.add(row[0])\n",
    "print(len(map_pts_dict))"
   ],
   "metadata": {
    "collapsed": false,
    "pycharm": {
     "name": "#%%\n"
    }
   }
  },
  {
   "cell_type": "code",
   "execution_count": 19,
   "outputs": [
    {
     "name": "stdout",
     "output_type": "stream",
     "text": [
      "482346\n"
     ]
    }
   ],
   "source": [
    "players_dict = dict()\n",
    "players_map_dict = dict()\n",
    "# players_dict[nickname] = [total_time, pts]\n",
    "# players_map_dict[nickname] = set(finished_maps)\n",
    "\n",
    "with open('../ddnet-stats/race.csv', 'r', encoding='latin-1') as f:\n",
    "    next(f)  # skipping header\n",
    "    for line in f:\n",
    "        map_name = re.split(',\".*\",', line)[0][1:-1]\n",
    "        if map_name in fun_server_maps:\n",
    "            continue\n",
    "        else:\n",
    "            other_info = (re.findall(',\".*\",', line))[0].split(',')\n",
    "            time = float(other_info[-3])\n",
    "            nick = ','.join(other_info[1:-3])[1:-1]\n",
    "\n",
    "            if nick not in players_dict.keys():\n",
    "                players_dict[nick] = [time, map_pts_dict[map_name]]\n",
    "                players_map_dict[nick] = {map_name}\n",
    "            else:\n",
    "                players_dict[nick][0] += time\n",
    "                if map_name not in players_map_dict[nick]:\n",
    "                    players_dict[nick][1] += map_pts_dict[map_name]\n",
    "                    players_map_dict[nick].add(map_name)\n",
    "players_map_dict.clear()\n",
    "print(len(players_dict))"
   ],
   "metadata": {
    "collapsed": false,
    "pycharm": {
     "name": "#%%\n"
    }
   }
  },
  {
   "cell_type": "code",
   "execution_count": 20,
   "outputs": [
    {
     "name": "stdout",
     "output_type": "stream",
     "text": [
      "[2996042.4199999976, 12499]\n",
      "[4914619.799999995, 27998]\n"
     ]
    }
   ],
   "source": [
    "print(players_dict[\"PeX\"])\n",
    "print(players_dict[\"Cor\"])"
   ],
   "metadata": {
    "collapsed": false,
    "pycharm": {
     "name": "#%%\n"
    }
   }
  },
  {
   "cell_type": "code",
   "execution_count": 26,
   "outputs": [
    {
     "name": "stdout",
     "output_type": "stream",
     "text": [
      "1 Soapy Sandwich 19144 pts, 426.0 days 43690.26 hours\n",
      "2 bano 24402 pts, 407.0 days 53797.64 hours\n",
      "3 CÃ¸ke 20563 pts, 406.0 days 70512.8 hours\n",
      "4 nameless tee 16045 pts, 388.0 days 18118.78 hours\n",
      "5 Tridemy 6134 pts, 369.0 days 14221.16 hours\n",
      "6 brainless tee 10311 pts, 359.0 days 71922.38 hours\n",
      "7 å¼ä¸­å¼O3O 5075 pts, 290.0 days 1728.54 hours\n",
      "8 è°¢ä½¬ 5014 pts, 280.0 days 8701.64 hours\n",
      "9 å¸ä¸æ°´ææ 3255 pts, 279.0 days 51864.9 hours\n",
      "10 æéè¦æ¯æ´ 1713 pts, 274.0 days 42358.92 hours\n",
      "11 NavyTahn 2788 pts, 272.0 days 71031.18 hours\n",
      "12 å©å©å© 584 pts, 267.0 days 10502.64 hours\n",
      "13 (1) 9870 pts, 130.0 days 4030.22 hours\n",
      "14 . 5757 pts, 88.0 days 26569.68 hours\n",
      "15 Deathman 13979 pts, 83.0 days 55575.92 hours\n"
     ]
    }
   ],
   "source": [
    "sort_d = sorted(players_dict.items(), key=lambda x: x[1][0], reverse=True)\n",
    "\n",
    "for rank, (player, (time, pts)) in enumerate(sort_d[0:15]):\n",
    "    print(rank + 1, player, pts, 'pts,', time//(3600*24), 'days', round(time % (3600*24), 2), 'hours')"
   ],
   "metadata": {
    "collapsed": false,
    "pycharm": {
     "name": "#%%\n"
    }
   }
  },
  {
   "cell_type": "code",
   "execution_count": 33,
   "outputs": [],
   "source": [
    "sort_d = sort_d[:1000]\n",
    "with open('../output/sum_time_top1000.csv', 'w', encoding='latin-1') as f:\n",
    "    f.write(\"Rank,Player,Points,TotalTime(Hours)\\n\")\n",
    "    for rank, (player, (time, pts)) in enumerate(sort_d):\n",
    "        f.write(f'{rank + 1},{player},{pts},{round(time/3600, 2)}\\n')\n"
   ],
   "metadata": {
    "collapsed": false,
    "pycharm": {
     "name": "#%%\n"
    }
   }
  }
 ],
 "metadata": {
  "kernelspec": {
   "display_name": "Python 3",
   "language": "python",
   "name": "python3"
  },
  "language_info": {
   "codemirror_mode": {
    "name": "ipython",
    "version": 2
   },
   "file_extension": ".py",
   "mimetype": "text/x-python",
   "name": "python",
   "nbconvert_exporter": "python",
   "pygments_lexer": "ipython2",
   "version": "2.7.6"
  }
 },
 "nbformat": 4,
 "nbformat_minor": 0
}