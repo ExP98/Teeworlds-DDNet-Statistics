{
 "cells": [
  {
   "cell_type": "code",
   "execution_count": 10,
   "metadata": {
    "collapsed": true
   },
   "outputs": [],
   "source": [
    "import csv\n",
    "import re\n",
    "from statistics import median\n",
    "from matplotlib import pyplot as plt"
   ]
  },
  {
   "cell_type": "code",
   "execution_count": 11,
   "outputs": [],
   "source": [
    "nick = \"PeX\""
   ],
   "metadata": {
    "collapsed": false,
    "pycharm": {
     "name": "#%%\n"
    }
   }
  },
  {
   "cell_type": "code",
   "execution_count": 15,
   "outputs": [
    {
     "data": {
      "text/plain": "2034"
     },
     "execution_count": 15,
     "metadata": {},
     "output_type": "execute_result"
    }
   ],
   "source": [
    "# dict \"[Map] = [points, set of fin-ed players, list of all times]\"\n",
    "read_data = {}\n",
    "\n",
    "# \"Fun\" server maps should be excluded\n",
    "# Also some maps were deleted but still exist in race file, these maps will have points -1\n",
    "maps_to_del = set()\n",
    "\n",
    "with open('../ddnet-stats/maps.csv', 'r', encoding='latin-1') as fp:\n",
    "    reader = csv.reader(fp, delimiter=',')\n",
    "    next(reader)\n",
    "    for row in reader:\n",
    "        read_data[row[0]] = [int(row[2]), set(), []]\n",
    "        if row[1] == \"Fun\":\n",
    "            maps_to_del.add(row[0])\n",
    "\n",
    "\n",
    "maps_finished_by_selected_nickname = dict()\n",
    "with open('../ddnet-stats/race.csv', 'r', encoding='latin-1') as fp:\n",
    "    reader = csv.reader(fp, delimiter=',')\n",
    "    next(reader)\n",
    "    for row in reader:\n",
    "        if row[0] not in read_data.keys():\n",
    "            maps_to_del.add(row[0])\n",
    "            read_data[row[0]] = [-1, set(), []]\n",
    "len(read_data)"
   ],
   "metadata": {
    "collapsed": false,
    "pycharm": {
     "name": "#%%\n"
    }
   }
  },
  {
   "cell_type": "code",
   "execution_count": 16,
   "outputs": [
    {
     "data": {
      "text/plain": "1220"
     },
     "execution_count": 16,
     "metadata": {},
     "output_type": "execute_result"
    }
   ],
   "source": [
    "with open('../ddnet-stats/race.csv', 'r', encoding='latin-1') as f:\n",
    "    next(f)  # skipping header\n",
    "    for line in f:\n",
    "        map_name = re.split(',\".*\",', line)[0][1:-1]\n",
    "        other_info = (re.findall(',\".*\",', line))[0].split(',')\n",
    "        time = float(other_info[-3])\n",
    "        read_nick = ''.join(other_info[1:-3])[1:-1]\n",
    "        read_data[map_name][1].add(read_nick)\n",
    "        read_data[map_name][2].append(time)\n",
    "        if nick == read_nick:\n",
    "            if map_name not in maps_finished_by_selected_nickname.keys():\n",
    "                maps_finished_by_selected_nickname[map_name] = round(time / 60, 2)\n",
    "            elif round(time / 60, 2) < maps_finished_by_selected_nickname[map_name]:\n",
    "                maps_finished_by_selected_nickname[map_name] = round(time / 60, 2)\n",
    "\n",
    "len(maps_finished_by_selected_nickname)"
   ],
   "metadata": {
    "collapsed": false,
    "pycharm": {
     "name": "#%%\n"
    }
   }
  },
  {
   "cell_type": "code",
   "execution_count": 17,
   "outputs": [
    {
     "name": "stdout",
     "output_type": "stream",
     "text": [
      "TeeTacToe\n",
      "Time Calculator\n"
     ]
    },
    {
     "data": {
      "text/plain": "(2018, 16)"
     },
     "execution_count": 17,
     "metadata": {},
     "output_type": "execute_result"
    }
   ],
   "source": [
    "for m_del in maps_to_del:\n",
    "    del read_data[m_del]\n",
    "    if m_del in maps_finished_by_selected_nickname.keys():\n",
    "        print(m_del)\n",
    "        del maps_finished_by_selected_nickname[m_del]\n",
    "len(read_data), len(maps_to_del)"
   ],
   "metadata": {
    "collapsed": false,
    "pycharm": {
     "name": "#%%\n"
    }
   }
  },
  {
   "cell_type": "code",
   "execution_count": 18,
   "outputs": [],
   "source": [
    "for map_key in read_data.keys():\n",
    "    read_data[map_key][1] = len(read_data[map_key][1])\n",
    "    read_data[map_key][2] = round(median(read_data[map_key][2]) / 60, 2)"
   ],
   "metadata": {
    "collapsed": false,
    "pycharm": {
     "name": "#%%\n"
    }
   }
  },
  {
   "cell_type": "code",
   "execution_count": 19,
   "outputs": [],
   "source": [
    "unfinished_maps = read_data.copy()\n",
    "for map_key in read_data.copy():\n",
    "    if map_key not in maps_finished_by_selected_nickname.keys():\n",
    "        del read_data[map_key]\n",
    "for map_key in unfinished_maps.copy():\n",
    "    if map_key in read_data.keys():\n",
    "        del unfinished_maps[map_key]"
   ],
   "metadata": {
    "collapsed": false,
    "pycharm": {
     "name": "#%%\n"
    }
   }
  },
  {
   "cell_type": "code",
   "execution_count": 20,
   "outputs": [
    {
     "name": "stdout",
     "output_type": "stream",
     "text": [
      "Count of finished maps: 1218\n",
      "Count of unfinished maps: 800\n"
     ]
    }
   ],
   "source": [
    "# read_data - finished maps\n",
    "# now read_data[map] = [pts, finished unique tees, median time for the map]\n",
    "# unfinished_maps has the same structure as read_data\n",
    "read_data = sorted(read_data.items(), key=lambda x: x[1][1])\n",
    "unfinished_maps = sorted(unfinished_maps.items(), key=lambda x: x[1][1], reverse=True)\n",
    "print('Count of finished maps:', len(maps_finished_by_selected_nickname))\n",
    "print('Count of unfinished maps:', len(unfinished_maps))"
   ],
   "metadata": {
    "collapsed": false,
    "pycharm": {
     "name": "#%%\n"
    }
   }
  },
  {
   "cell_type": "code",
   "execution_count": 21,
   "outputs": [],
   "source": [
    "# for item in read_data:\n",
    "#     print(item[0], ': ', item[1][0], 'pts, ', item[1][1], 'tees, ', item[1][2], 'mins median time,',\n",
    "#           maps_finished_by_selected_nickname[item[0]], 'mins', nick, 'time')\n",
    "# for item in unfinished_maps:\n",
    "#     print(item[0], ': ', item[1][0], 'pts, ', item[1][1], 'tees, ', item[1][2], 'mins median time')\n",
    "\n",
    "with open('output/finished_maps.csv', 'w', encoding='utf-8') as f:\n",
    "    f.write('No.,Map,Points,CountOfFinishedTees,MedianTime(min),' + nick + '_time(min)\\n')\n",
    "    for no, item in enumerate(read_data, 1):\n",
    "        f.write('{},{},{},{},{},{}\\n'.format(no, item[0], item[1][0], item[1][1], item[1][2],\n",
    "                                             maps_finished_by_selected_nickname[item[0]]))\n",
    "with open('output/unfinished_maps.csv', 'w', encoding='utf-8') as f:\n",
    "    f.write('No.,Map,Points,CountOfUnfinishedTees,MedianTime(min)\\n')\n",
    "    for no, item in enumerate(unfinished_maps, 1):\n",
    "        f.write('{},{},{},{},{}\\n'.format(no, item[0], item[1][0], item[1][1], item[1][2]))"
   ],
   "metadata": {
    "collapsed": false,
    "pycharm": {
     "name": "#%%\n"
    }
   }
  },
  {
   "cell_type": "code",
   "execution_count": 22,
   "outputs": [
    {
     "data": {
      "text/plain": "<Figure size 432x288 with 1 Axes>",
      "image/png": "[encoded data removed]"
     },
     "metadata": {
      "needs_background": "light"
     },
     "output_type": "display_data"
    }
   ],
   "source": [
    "finishes = [item[1][1] for item in unfinished_maps]\n",
    "med_time = [item[1][2] for item in unfinished_maps]\n",
    "map_names = [item[0] for item in unfinished_maps]\n",
    "\n",
    "# Plot\n",
    "fig, ax = plt.subplots()\n",
    "sc = plt.scatter(finishes, med_time, alpha=0.5, marker='.')\n",
    "\n",
    "plt.title('Unfinished maps')\n",
    "plt.xlabel('Count of finishes by unique tees')\n",
    "plt.ylabel('Median Time (in min)')\n",
    "\n",
    "annot = ax.annotate(\"\", xy=(0, 0), xytext=(20, 20), textcoords=\"offset points\",\n",
    "                    bbox=dict(boxstyle=\"round\", fc=\"w\"),\n",
    "                    arrowprops=dict(arrowstyle=\"->\"))\n",
    "annot.set_visible(False)\n",
    "\n",
    "def update_annot(ind):\n",
    "    pos = sc.get_offsets()[ind[\"ind\"][0]]\n",
    "    annot.xy = pos\n",
    "    annot.set_text(\", \".join([map_names[n] for n in ind[\"ind\"]]))\n",
    "    annot.get_bbox_patch().set_alpha(0.4)\n",
    "\n",
    "\n",
    "def hover(event):\n",
    "    vis = annot.get_visible()\n",
    "    if event.inaxes == ax:\n",
    "        cont, ind = sc.contains(event)\n",
    "        if cont:\n",
    "            update_annot(ind)\n",
    "            annot.set_visible(True)\n",
    "            fig.canvas.draw_idle()\n",
    "        else:\n",
    "            if vis:\n",
    "                annot.set_visible(False)\n",
    "                fig.canvas.draw_idle()\n",
    "\n",
    "\n",
    "fig.canvas.mpl_connect(\"motion_notify_event\", hover)\n",
    "plt.grid()\n",
    "plt.show()\n"
   ],
   "metadata": {
    "collapsed": false,
    "pycharm": {
     "name": "#%%\n"
    }
   }
  }
 ],
 "metadata": {
  "kernelspec": {
   "display_name": "Python 3",
   "language": "python",
   "name": "python3"
  },
  "language_info": {
   "codemirror_mode": {
    "name": "ipython",
    "version": 2
   },
   "file_extension": ".py",
   "mimetype": "text/x-python",
   "name": "python",
   "nbconvert_exporter": "python",
   "pygments_lexer": "ipython2",
   "version": "2.7.6"
  }
 },
 "nbformat": 4,
 "nbformat_minor": 0
}